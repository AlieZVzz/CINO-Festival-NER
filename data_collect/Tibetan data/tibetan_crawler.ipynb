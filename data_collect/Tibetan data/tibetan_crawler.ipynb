{
 "cells": [
  {
   "cell_type": "code",
   "execution_count": 1,
   "metadata": {},
   "outputs": [],
   "source": [
    "import requests\n",
    "from bs4 import BeautifulSoup\n",
    "import urllib"
   ]
  },
  {
   "cell_type": "code",
   "execution_count": 3,
   "metadata": {},
   "outputs": [],
   "source": [
    "# རྒྱལ་རྩེ་མདའ་དམག\n",
    "keyword = 'རྒྱལ་རྩེ་མདའ་དམག'\n",
    "cookie = '70137e6ae8ab42ffa83ce9cc228755e8=WyI0MjU4MTc2MDYxIl0; news.suggest=1; suggest=1; pageSize=10; news.pageSize=10; news.history=1; history=1; weblocal=zh_ZW; searchlog=[{\"word\":\"à½¦à¾Ÿà½¼à½“à¼‹à½à½ à½²à¼‹à½‘à½´à½¦à¼‹à½†à½ºà½“à¼\"},{\"word\":\"à½ à½¼à½„à¼‹à½¦à¾à½¼à½¢à¼‹à½‘à½´à½¦à¼‹à½†à½ºà½“à¼\"},{\"word\":\"à½¢à¾’à¾±à½£à¼‹à½¢à¾©à½ºà¼‹à½˜à½‘à½ à¼‹à½‘à½˜à½‚\"},{\"word\":\"à½¦à¾¤à½´à¼‹à½§à¾²à½ºà½„à¼‹à½£à½¼à¼‹à½‚à½¦à½¢à¼\"}]; token=dba17ede-bcf6-4034-96a0-c677e8f4722a; 70137e6ae8ab42ffa83ce9cc228755e8=WyI2MzcwNzUzNjciXQ; Hm_lvt_01516e39a68d06a0ee1086c84061d6fd=1648473733,1648623133,1648956765,1648988578; Hm_lvt_5eba60fe8b3ad191defab76fc103306b=1648473733,1648623133,1648956765,1648988578; JSESSIONID=063FD87B0E03CF44716034C7C422ACA4; Hm_lpvt_01516e39a68d06a0ee1086c84061d6fd=1648988616; Hm_lpvt_5eba60fe8b3ad191defab76fc103306b=1648988751'\n",
    "res = requests.get('https://www.yongzin.com/page/search.do?pageNo=1&word=%E0%BD%A6%E0%BE%A4%E0%BD%B4%E0%BC%8B%E0%BD%A7%E0%BE%B2%E0%BD%BA%E0%BD%84%E0%BC%8B%E0%BD%A3%E0%BD%BC%E0%BC%8B%E0%BD%82%E0%BD%A6%E0%BD%A2&pageSize=10&searchId=9f614bdbd0a74a00ac59c36ffa1764ae&referId=&flagWord=%E0%BD%A6%E0%BE%A4%E0%BD%B4%E0%BC%8B%E0%BD%A7%E0%BE%B2%E0%BD%BA%E0%BD%84%E0%BC%8B%E0%BD%A3%E0%BD%BC%E0%BC%8B%E0%BD%82%E0%BD%A6%E0%BD%A2%E0%BC%8D&spellCorrectEnabled=true&order=&filterDataIds=8348EA5BB15AEC1F0A867EFA85EB3B66n%2CD4494D46D408D817BDD7E7C47689B971n%2C46338D7244C66B8B31B36EE33ACFEABCn%2C48C3C2AC748C9FB972D59D60928DE012n%2C0000000052542f2d01525e4f0ac03113%2C40288cbd59004d08015938f94d895ae8%2Cedf06e87d04e47e8a0d99670cda4b1ba%2C40288cbe66c2a82a0166d3764bd521d3%2C40288cc166f0fc5601670758ccaa33b6%2C40288cc166f0fc560167074a58343396%2C')\n",
    "soup = BeautifulSoup(res.text)"
   ]
  },
  {
   "cell_type": "code",
   "execution_count": 4,
   "metadata": {},
   "outputs": [
    {
     "name": "stdout",
     "output_type": "stream",
     "text": [
      "['http://tibet.people.com.cn/15695635.html', 'http://tibet.people.com.cn/15695638.html', 'http://tibet.people.com.cn/15695637.html', 'http://tibet.people.com.cn/15695636.html', 'https://baike.yongzin.com/word/viewWord.do?id=0000000052542f2d01525e4f0ac03113', 'https://zhidao.yongzin.com/answerController/answer.do?questionId=40288cbd59004d08015938f94d895ae8', 'https://zhidao.yongzin.com/answerController/answer.do?questionId=edf06e87d04e47e8a0d99670cda4b1ba', 'https://baike.yongzin.com/word/viewWord.do?id=40288cbe66c2a82a0166d3764bd521d3', 'https://wenku.yongzin.com/topLayoutController/fileInfo.do?id=40288cc166f0fc5601670758ccaa33b6', 'https://wenku.yongzin.com/topLayoutController/fileInfo.do?id=40288cc166f0fc560167074a58343396']\n"
     ]
    }
   ],
   "source": [
    "serp = soup.find_all('div', class_='result')\n",
    "href_list = []\n",
    "for i in range(4, 14):\n",
    "    href = serp[i].find_all('a')[0].get('href')\n",
    "    href_list.append(href)\n",
    "print(href_list)"
   ]
  },
  {
   "cell_type": "code",
   "execution_count": 5,
   "metadata": {},
   "outputs": [],
   "source": [
    "# 单个页面的查询结果\n",
    "def get_url_list(url, is_first_page):\n",
    "    res = requests.get(url)\n",
    "    soup = BeautifulSoup(res.text)\n",
    "    serp = soup.find_all('div', class_='result')\n",
    "    href_list = []\n",
    "    start = 4 if is_first_page else 1\n",
    "    for i in range(start, start+9):\n",
    "        href = serp[i].find_all('a')[0].get('href')\n",
    "\n",
    "        href_list.append(href)\n",
    "    return href_list"
   ]
  },
  {
   "cell_type": "code",
   "execution_count": 6,
   "metadata": {},
   "outputs": [],
   "source": [
    "# 网站爬取白名单\n",
    "def get_website_name(href_list):\n",
    "    output_list = []\n",
    "    for i in href_list:\n",
    "        flag, stop_idx = 0, 0\n",
    "        web_name = ''\n",
    "        for idx, j in enumerate(i):\n",
    "            if j == '/':\n",
    "                flag += 1\n",
    "            if flag == 3:\n",
    "                stop_idx = idx\n",
    "                web_name = i[:stop_idx]\n",
    "                break\n",
    "        if web_name in ['http://tibet.people.com.cn', 'http://tb.tibet.cn','http://www.vtibet.com', 'http://tb.chinatibetnews.com','http://ti.zangdiyg.com']:\n",
    "            print(i)\n",
    "            output_list.append(i)\n",
    "    return output_list"
   ]
  },
  {
   "cell_type": "code",
   "execution_count": 7,
   "metadata": {},
   "outputs": [
    {
     "name": "stdout",
     "output_type": "stream",
     "text": [
      "http://tibet.people.com.cn/15695635.html\n",
      "http://tibet.people.com.cn/15695638.html\n",
      "http://tibet.people.com.cn/15695637.html\n",
      "http://tibet.people.com.cn/15695636.html\n",
      "['http://tibet.people.com.cn/15695635.html', 'http://tibet.people.com.cn/15695638.html', 'http://tibet.people.com.cn/15695637.html', 'http://tibet.people.com.cn/15695636.html']\n"
     ]
    }
   ],
   "source": [
    "print(get_website_name(href_list=href_list))\n"
   ]
  },
  {
   "cell_type": "code",
   "execution_count": 8,
   "metadata": {},
   "outputs": [],
   "source": [
    "import time\n",
    "# 返回检索结果，默认返回页数为10\n",
    "def get_serp(keyword, page_range=10):\n",
    "    code = urllib.parse.quote(keyword)\n",
    "    total_url_list = []\n",
    "    for i in range(1, page_range+1):\n",
    "        url = 'https://www.yongzin.com/page/search.do?pageNo=' + str(i) + '&word=' + code + '&pageSize=10&searchId=9f614bdbd0a74a00ac59c36ffa1764ae&referId=&flagWord=%E0%BD%A6%E0%BE%A4%E0%BD%B4%E0%BC%8B%E0%BD%A7%E0%BE%B2%E0%BD%BA%E0%BD%84%E0%BC%8B%E0%BD%A3%E0%BD%BC%E0%BC%8B%E0%BD%82%E0%BD%A6%E0%BD%A2%E0%BC%8D&spellCorrectEnabled=true&order=&filterDataIds=8348EA5BB15AEC1F0A867EFA85EB3B66n%2CD4494D46D408D817BDD7E7C47689B971n%2C46338D7244C66B8B31B36EE33ACFEABCn%2C48C3C2AC748C9FB972D59D60928DE012n%2C0000000052542f2d01525e4f0ac03113%2C40288cbd59004d08015938f94d895ae8%2Cedf06e87d04e47e8a0d99670cda4b1ba%2C40288cbe66c2a82a0166d3764bd521d3%2C40288cc166f0fc5601670758ccaa33b6%2C40288cc166f0fc560167074a58343396%2C'\n",
    "        first_page = True if i == 1 else False\n",
    "        url_list = get_url_list(url, first_page)\n",
    "        # print(url_list)\n",
    "        whitelist_url = get_website_name(url_list)\n",
    "        total_url_list.extend(whitelist_url)\n",
    "        time.sleep(1)\n",
    "    return total_url_list"
   ]
  },
  {
   "cell_type": "code",
   "execution_count": 9,
   "metadata": {},
   "outputs": [
    {
     "name": "stdout",
     "output_type": "stream",
     "text": [
      "http://tibet.people.com.cn/15729242.html\n",
      "http://tibet.people.com.cn/15525070.html\n",
      "http://tibet.people.com.cn/15442303.html\n",
      "http://tibet.people.com.cn/15525070.html\n",
      "http://tibet.people.com.cn/15442303.html\n",
      "http://tibet.people.com.cn/15960180.html\n",
      "http://tibet.people.com.cn/15519118.html\n",
      "http://tb.chinatibetnews.com/xw/gngj/gn/201509/t20150918_819780.html\n",
      "http://tibet.people.com.cn/15537378.html\n",
      "http://ti.zangdiyg.com/index.php?s=/article/detail/id/731.html\n",
      "http://ti.zangdiyg.com/Article/detail/id/731.html\n",
      "http://ti.zangdiyg.com/article/detail/id/731.html\n",
      "http://tibet.people.com.cn/15746993.html\n",
      "http://tb.chinatibetnews.com/fysj/jsxw/201510/t20151017_865902.html\n",
      "http://tb.chinatibetnews.com/xw/gngj/gj/201510/t20151017_865901.html\n",
      "http://tibet.people.com.cn/15816784.html\n",
      "http://tibet.people.com.cn/15814378.html\n",
      "http://tibet.people.com.cn/15649909.html\n",
      "http://tibet.people.com.cn/15710527.html\n",
      "http://tibet.people.com.cn/15786109.html\n",
      "http://tb.tibet.cn/2010sy/xw/201708/t20170801_4343091.html\n",
      "http://tibet.people.com.cn/15971619.html\n",
      "http://tibet.people.com.cn/15975841.html\n",
      "http://tibet.people.com.cn/15854095.html\n",
      "http://tibet.people.com.cn/15769095.html\n",
      "http://tb.chinatibetnews.com/xw/gngj/gn/201511/t20151128_946660.html\n",
      "http://tibet.people.com.cn/15772626.html\n",
      "http://tibet.people.com.cn/15752519.html\n",
      "http://tb.chinatibetnews.com/kjws/wsxw/201508/t20150803_729531.html\n",
      "http://tb.tibet.cn/2010news/xzxw/yp/201211/t20121130_1800205.html\n",
      "http://tb.chinatibetnews.com/xw/gngj/gn/201609/t20160921_1444688.html\n",
      "http://ti.zangdiyg.com/index.php?s=/article/detail/id/3177.html\n",
      "http://ti.zangdiyg.com/index.php?s=/Article/detail/id/3177.html\n",
      "http://ti.zangdiyg.com/Article/detail/id/3177.html\n",
      "http://tibet.people.com.cn/15412449.html\n",
      "http://tibet.people.com.cn/141101/11957348.html\n",
      "http://tibet.people.com.cn/7863306.html\n",
      "http://tb.tibet.cn/2010sy/tpxw/201704/t20170420_4138827.html\n",
      "http://tb.tibet.cn/2010news/xzxw/ttxw/201801/t20180105_5322590.html\n",
      "http://tb.chinatibetnews.com/sylm/201502/t20150228_325337.html\n",
      "http://tb.chinatibetnews.com/xw/gngj/gn/201502/t20150228_325336.html\n",
      "http://tb.chinatibetnews.com/xw/gngj/gj/201512/t20151212_973594.html\n",
      "http://tibet.people.com.cn/15966313.html\n",
      "http://tb.chinatibetnews.com/xw/gngj/gn/201604/t20160422_1193185.html\n",
      "http://tb.tibet.cn/2010news/gnxw/201604/t20160422_4063529.html\n",
      "http://ti.zangdiyg.com/Article/detail/id/9736.html\n",
      "http://ti.zangdiyg.com/article/detail/id/9736.html\n",
      "http://tb.chinatibetnews.com/xw/gngj/gj/201505/t20150514_561360.html\n",
      "http://tibet.people.com.cn/15677589.html\n",
      "http://tb.chinatibetnews.com/fz/gnxw/201508/t20150804_733062.html\n",
      "http://tb.chinatibetnews.com/fysj/jsxw/201508/t20150803_730051.html\n",
      "http://tibet.people.com.cn/15752746.html\n",
      "http://tibet.people.com.cn/15654545.html\n",
      "http://tibet.people.com.cn/15819521.html\n",
      "http://tb.chinatibetnews.com/xw/sz/201605/t20160504_1211013.html\n",
      "http://tb.chinatibetnews.com/sylm/201605/t20160504_1211014.html\n",
      "http://tb.tibet.cn/2010news/gjxw/201511/t20151102_3967760.html\n",
      "http://tibet.people.com.cn/15814959.html\n",
      "['http://tibet.people.com.cn/15729242.html', 'http://tibet.people.com.cn/15525070.html', 'http://tibet.people.com.cn/15442303.html', 'http://tibet.people.com.cn/15525070.html', 'http://tibet.people.com.cn/15442303.html', 'http://tibet.people.com.cn/15960180.html', 'http://tibet.people.com.cn/15519118.html', 'http://tb.chinatibetnews.com/xw/gngj/gn/201509/t20150918_819780.html', 'http://tibet.people.com.cn/15537378.html', 'http://ti.zangdiyg.com/index.php?s=/article/detail/id/731.html', 'http://ti.zangdiyg.com/Article/detail/id/731.html', 'http://ti.zangdiyg.com/article/detail/id/731.html', 'http://tibet.people.com.cn/15746993.html', 'http://tb.chinatibetnews.com/fysj/jsxw/201510/t20151017_865902.html', 'http://tb.chinatibetnews.com/xw/gngj/gj/201510/t20151017_865901.html', 'http://tibet.people.com.cn/15816784.html', 'http://tibet.people.com.cn/15814378.html', 'http://tibet.people.com.cn/15649909.html', 'http://tibet.people.com.cn/15710527.html', 'http://tibet.people.com.cn/15786109.html', 'http://tb.tibet.cn/2010sy/xw/201708/t20170801_4343091.html', 'http://tibet.people.com.cn/15971619.html', 'http://tibet.people.com.cn/15975841.html', 'http://tibet.people.com.cn/15854095.html', 'http://tibet.people.com.cn/15769095.html', 'http://tb.chinatibetnews.com/xw/gngj/gn/201511/t20151128_946660.html', 'http://tibet.people.com.cn/15772626.html', 'http://tibet.people.com.cn/15752519.html', 'http://tb.chinatibetnews.com/kjws/wsxw/201508/t20150803_729531.html', 'http://tb.tibet.cn/2010news/xzxw/yp/201211/t20121130_1800205.html', 'http://tb.chinatibetnews.com/xw/gngj/gn/201609/t20160921_1444688.html', 'http://ti.zangdiyg.com/index.php?s=/article/detail/id/3177.html', 'http://ti.zangdiyg.com/index.php?s=/Article/detail/id/3177.html', 'http://ti.zangdiyg.com/Article/detail/id/3177.html', 'http://tibet.people.com.cn/15412449.html', 'http://tibet.people.com.cn/141101/11957348.html', 'http://tibet.people.com.cn/7863306.html', 'http://tb.tibet.cn/2010sy/tpxw/201704/t20170420_4138827.html', 'http://tb.tibet.cn/2010news/xzxw/ttxw/201801/t20180105_5322590.html', 'http://tb.chinatibetnews.com/sylm/201502/t20150228_325337.html', 'http://tb.chinatibetnews.com/xw/gngj/gn/201502/t20150228_325336.html', 'http://tb.chinatibetnews.com/xw/gngj/gj/201512/t20151212_973594.html', 'http://tibet.people.com.cn/15966313.html', 'http://tb.chinatibetnews.com/xw/gngj/gn/201604/t20160422_1193185.html', 'http://tb.tibet.cn/2010news/gnxw/201604/t20160422_4063529.html', 'http://ti.zangdiyg.com/Article/detail/id/9736.html', 'http://ti.zangdiyg.com/article/detail/id/9736.html', 'http://tb.chinatibetnews.com/xw/gngj/gj/201505/t20150514_561360.html', 'http://tibet.people.com.cn/15677589.html', 'http://tb.chinatibetnews.com/fz/gnxw/201508/t20150804_733062.html', 'http://tb.chinatibetnews.com/fysj/jsxw/201508/t20150803_730051.html', 'http://tibet.people.com.cn/15752746.html', 'http://tibet.people.com.cn/15654545.html', 'http://tibet.people.com.cn/15819521.html', 'http://tb.chinatibetnews.com/xw/sz/201605/t20160504_1211013.html', 'http://tb.chinatibetnews.com/sylm/201605/t20160504_1211014.html', 'http://tb.tibet.cn/2010news/gjxw/201511/t20151102_3967760.html', 'http://tibet.people.com.cn/15814959.html']\n"
     ]
    }
   ],
   "source": [
    "print(get_serp('རྒྱལ་རྩེ་མདའ་དམག', 20))"
   ]
  },
  {
   "cell_type": "code",
   "execution_count": 31,
   "metadata": {},
   "outputs": [],
   "source": [
    "import html2text\n",
    "import re\n",
    "# http://tibet.people.com.cn/15729242.html\n",
    "def tibet_people_crawler(link):\n",
    "    res = requests.get(link)\n",
    "    res.encoding = 'utf-8'\n",
    "    soup = BeautifulSoup(res.text)\n",
    "    # title = soup.find('div', class_='gq_content').find('h1').text\n",
    "    news = soup.find('div', style = 'WORD-WRAP: break-word;word-break:keep-all;text-align:justify;').text\n",
    "    # print(news)\n",
    "    news = ' '.join(news.split())\n",
    "    return news \n"
   ]
  },
  {
   "cell_type": "code",
   "execution_count": 32,
   "metadata": {},
   "outputs": [
    {
     "name": "stdout",
     "output_type": "stream",
     "text": [
      "     མི་དམངས་དྲ་བའི་འཕྲིན། ཟླ་7ཚེས་28ཉིན་2015ལོའི་བོད་ལྗོངས་རྒྱལ་རྩེ་རྫོང་གི་མདའ་དམག་རིག་གནས་ཡུལ་སྐོར་དུས་ཆེན་གཏོང་འགོ་བརྩམས་ཤིང་། སྐབས་འདིའི་དུས་ཡུན་ཉིན་གསུམ་གྱི་མདའ་དམག་རིག་གནས་ཡུལ་སྐོར་དུས་ཆེན་ནི་“མཛེས་སྡུག་དཔའ་བོའི་མཁར་གྲོང་དུ་ཀྲུང་གོའི་ཕུགས་འདུན་མཉམ་སྐྲུན། མྱང་ཆུ་འགྲམ་དུ་དགའ་འཛོམས་བྱས་ཏེ་མདའ་དམག་བརྩེ་དུང་མཉམ་རོལ།”ཞེས་པ་བརྗོད་བྱ་གཙོ་བོ་བྱས་ནས་མི་རིགས་ཀྱི་ཁྱད་ཆོས་ལྡན་པའི་བྱེད་སྒོ་སྣ་མང་སྤེལ་རྒྱུ་རེད། ལོ་གཅིག་ཐེངས་གཅིག་གི་མདའ་དམག་དུས་ཆེན་ནི་རྒྱལ་རྩེར་དམིགས་བསལ་དུ་ཡོད་པའི་སྲོལ་རྒྱུན་གྱི་དུས་ཆེན་ཞིག་ཡིན་ལ་ད་ལྟའི་བར་དུ་ལོ་ངོ་607གྱི་ལོ་རྒྱུས་ལྡན་པ་རེད།\n"
     ]
    },
    {
     "data": {
      "text/plain": [
       "'མི་དམངས་དྲ་བའི་འཕྲིན། ཟླ་7ཚེས་28ཉིན་2015ལོའི་བོད་ལྗོངས་རྒྱལ་རྩེ་རྫོང་གི་མདའ་དམག་རིག་གནས་ཡུལ་སྐོར་དུས་ཆེན་གཏོང་འགོ་བརྩམས་ཤིང་། སྐབས་འདིའི་དུས་ཡུན་ཉིན་གསུམ་གྱི་མདའ་དམག་རིག་གནས་ཡུལ་སྐོར་དུས་ཆེན་ནི་“མཛེས་སྡུག་དཔའ་བོའི་མཁར་གྲོང་དུ་ཀྲུང་གོའི་ཕུགས་འདུན་མཉམ་སྐྲུན། མྱང་ཆུ་འགྲམ་དུ་དགའ་འཛོམས་བྱས་ཏེ་མདའ་དམག་བརྩེ་དུང་མཉམ་རོལ།”ཞེས་པ་བརྗོད་བྱ་གཙོ་བོ་བྱས་ནས་མི་རིགས་ཀྱི་ཁྱད་ཆོས་ལྡན་པའི་བྱེད་སྒོ་སྣ་མང་སྤེལ་རྒྱུ་རེད། ལོ་གཅིག་ཐེངས་གཅིག་གི་མདའ་དམག་དུས་ཆེན་ནི་རྒྱལ་རྩེར་དམིགས་བསལ་དུ་ཡོད་པའི་སྲོལ་རྒྱུན་གྱི་དུས་ཆེན་ཞིག་ཡིན་ལ་ད་ལྟའི་བར་དུ་ལོ་ངོ་607གྱི་ལོ་རྒྱུས་ལྡན་པ་རེད།'"
      ]
     },
     "execution_count": 32,
     "metadata": {},
     "output_type": "execute_result"
    }
   ],
   "source": [
    "tibet_people_crawler('http://tibet.people.com.cn/15525070.html')\n",
    "# 文字前面的空格数量有规定吗\n",
    "# 空格是不是句子的分隔符"
   ]
  },
  {
   "cell_type": "code",
   "execution_count": 23,
   "metadata": {},
   "outputs": [
    {
     "name": "stdout",
     "output_type": "stream",
     "text": [
      "       མི་དམངས་དྲ་བའི་འཕྲིན། ལོ་ལྟར་དབྱར་གཞུང་གི་དུས་སུ་གཞིས་རྩེ་གྲོང་ཁྱེར་རྒྱལ་རྩེ་རྫོང་གི་ཞིང་འབྲོག་མང་ཚོགས་ཚོས་གཟབ་མཆོར་ལེགས་པར་སྤྲས་ཏེ་ཕྱོགས་བཞི་མཚམས་བརྒྱད་ནས་ལྷན་དུ་འཛོམས་ཏེ་ལོ་གཅིག་དུས་གཅིག་གི་རྒྱལ་རྩེ་མདའ་མང་རིག་གནས་ཡུལ་སྐོར་དུས་ཆེན་དགའ་གཏོང་བྱེད་ཀྱི་ཡོད།         ད་ཐེངས་ཀྱི་མདའ་མང་དུས་ཆེན་ལ་རྟ་རྒྱུག་དང་།  གཡག་རྒྱུག   མདའ་འཕེན་པ། ཐག་འཐེན་འགྲན་བསྡུར་དང་དེ་བཞིན་རིག་རྩལ་འཁྲབ་སྟོན་སོགས་ཀྱི་བྱེད་སྒོ་ཡོད་པ་མ་ཟད། ད་དུང་ཚོང་འདུས་འཚོག་ནས＂རིག་གནས་ཀྱི་སྟེགས་བུ་སྐྲུན་ཏེ། དཔལ་འབྱོར་འཁྲུག་པོ＂ཡོང་བའི་ནུས་པ་འདོན་སྤེལ་བྱ་རྒྱུ་ཡིན་པ་རེད།\n"
     ]
    },
    {
     "data": {
      "text/plain": [
       "'\\xa0\\xa0\\xa0\\xa0\\xa0\\xa0\\xa0མི་དམངས་དྲ་བའི་འཕྲིན།\\xa0ལོ་ལྟར་དབྱར་གཞུང་གི་དུས་སུ་གཞིས་རྩེ་གྲོང་ཁྱེར་རྒྱལ་རྩེ་རྫོང་གི་ཞིང་འབྲོག་མང་ཚོགས་ཚོས་གཟབ་མཆོར་ལེགས་པར་སྤྲས་ཏེ་ཕྱོགས་བཞི་མཚམས་བརྒྱད་ནས་ལྷན་དུ་འཛོམས་ཏེ་ལོ་གཅིག་དུས་གཅིག་གི་རྒྱལ་རྩེ་མདའ་མང་རིག་གནས་ཡུལ་སྐོར་དུས་ཆེན་དགའ་གཏོང་བྱེད་ཀྱི་ཡོད།\\xa0\\xa0\\xa0\\xa0\\xa0\\xa0\\xa0\\xa0\\xa0ད་ཐེངས་ཀྱི་མདའ་མང་དུས་ཆེན་ལ་རྟ་རྒྱུག་དང་།\\xa0\\xa0གཡག་རྒྱུག\\xa0\\xa0\\xa0མདའ་འཕེན་པ།\\xa0ཐག་འཐེན་འགྲན་བསྡུར་དང་དེ་བཞིན་རིག་རྩལ་འཁྲབ་སྟོན་སོགས་ཀྱི་བྱེད་སྒོ་ཡོད་པ་མ་ཟད།\\xa0ད་དུང་ཚོང་འདུས་འཚོག་ནས＂རིག་གནས་ཀྱི་སྟེགས་བུ་སྐྲུན་ཏེ།\\xa0དཔལ་འབྱོར་འཁྲུག་པོ＂ཡོང་བའི་ནུས་པ་འདོན་སྤེལ་བྱ་རྒྱུ་ཡིན་པ་རེད།'"
      ]
     },
     "execution_count": 23,
     "metadata": {},
     "output_type": "execute_result"
    }
   ],
   "source": [
    "tibet_people_crawler('http://tibet.people.com.cn/15729242.html')\n",
    "# 无论多少个空格都当成句子的分隔符？\n",
    "# 空格数量不影响句子分割"
   ]
  },
  {
   "cell_type": "code",
   "execution_count": 41,
   "metadata": {},
   "outputs": [],
   "source": [
    "def tibet_cn_crawler(link):\n",
    "    res = requests.get(link)\n",
    "    res.encoding = 'utf-8'\n",
    "    soup = BeautifulSoup(res.text)\n",
    "    title = soup.find('td', class_='lan_20').text\n",
    "    news = [' '.join(i.text.split()) for i in soup.find_all('font', style = 'line-height: 150%;')]\n",
    "    # print(news)\n",
    "    processed_news = ' '.join(news)\n",
    "    # print(processed_news)\n",
    "    return processed_news\n",
    "# 这种对你来说是不是更通顺一点"
   ]
  },
  {
   "cell_type": "code",
   "execution_count": 42,
   "metadata": {},
   "outputs": [
    {
     "data": {
      "text/plain": [
       "'ཀྲུང་གོ་མི་དམངས་བཅིངས་འགྲོལ་དམག་བཙུགས་ནས་ལོ་ངོ་90འཁོར་བར་རྟེན་འབྲེལ་ཞུ་བའི་དམག་གཟིགས་མཛད་སྒོ་ཉིན་གྱི་སྔ་དྲོའི་ཆུ་ཚོད་9པར་ནང་སོག་ཀྲུའུ་རི་ཧོ་སྦྱོང་བརྡར་རྟེན་གཞིར་འཚོགས་པ་དང་། ཀྲུང་གུང་ཀྲུང་དབྱང་གི་སྤྱི་ཁྱབ་ཧྲུའུ་ཅི་དང་། རྒྱལ་ཁབ་ཀྱི་ཀྲུའུ་ཞི། ཀྲུང་དབྱང་དམག་ཨུད་ཀྱི་ཀྲུའུ་ཞི་བཅས་ཡིན་པའི་ཞི་ཅིན་ཕིང་གིས་དཔུང་སྡེར་གཟིགས་ཞིབ་གནང་བ་དང་འབྲེལ་གསུང་བཤད་གལ་ཆེན་ཡང་གནང་བ་རེད། གངས་ལྗོངས་ས་མཐོའི་མི་རིགས་ཁག་གི་ལས་བྱེད་མང་ཚོགས་ཀྱིས་རྣམ་པ་སྣ་ཚོགས་བརྒྱུད་དམག་གཟིགས་མཛད་སྒོར་བལྟས་ནས་ཐུན་མོང་ཐོག་རླབས་ཆེ་ལ་བླ་ན་མེད་པའི་དུས་ཚོད་དེར་བདེན་དཔང་བྱས་ཤིང་། ཚང་མས་དམག་གཟིགས་མཛད་སྒོར་བལྟས་རྗེས་སྤོབས་པ་ཆེ་སྐྱེད་དང་ཡིད་ཆེས་བརྟན་དུ་ཕྱིན་པ་དང་། ཀྲུའུ་ཞི་ཞི་ཅིན་ཕིང་གི་གསུང་བཤད་གལ་ཆེན་གྱི་དགོངས་དོན་མཛུབ་ཁྲིད་དུ་བྱས་ནས་ཐོག་མའི་བསམ་འདུན་མ་བརྗེད་པར་མུ་མཐུད་དུ་མདུན་སྐྱོད་བྱས་ཏེ་ཀྲུང་གོའི་ཕུགས་འདུན་དང་དམག་དཔུང་སྟོབས་ཆེར་གཏོང་བའི་ཕུགས་འདུན་གྱི་སྟོབས་ཤུགས་ཆེན་པོ་གཅིག་ཏུ་སྒྲིལ་ནས། ཀྲུང་ཧྭ་མི་རིགས་རླབས་ཆེན་བསྐྱར་དར་གྱི་ཀྲུང་གོའི་ཕུགས་འདུན་མངོན་འགྱུར་བྱེད་པའི་ཐད་ལེགས་སྐྱེས་གསར་པ་དེ་བས་ཆེ་བ་འབུལ་རྒྱུ་ཡིན་ཞེས་གཅིག་རྗེས་གཉིས་མཐུད་ངང་གསུངས་པ་རེད། “ཞི་བདེ་ལོངས་སུ་སྤྱོད་པ་ནི་མི་དམངས་ཀྱི་བདེ་སྐྱིད་ཡིན་ཞིང་། ཞི་བདེ་སྲུང་སྐྱོང་བྱེད་པ་ནི་མི་དམངས་དམག་དཔུང་གི་འགན་འཁྲི་ཡིན”ཀྲུའུ་ཞི་ཞི་ཅིན་ཕིང་གི་གསུང་བཤད་འདི་བོད་ལྗོངས་སྤྱི་བདེ་མཐའ་སྲུང་སྤྱི་ཁྱབ་རུ་ཁག་རོང་ཤར་མཐའ་སྲུང་མངགས་གཏོང་ཁང་གི་དཔོན་དམག་ཏེང་ཆན་ཨན་གྱི་སེམས་ལ་གཏིང་ཟབ་ཟུག་ཡོད། ཁོང་གིས་གསར་འགོད་པར། མཐའ་སྲུང་དམག་མི་ཞིག་ཡིན་པའི་ངོས་བཤད་ནས། ཏང་གི་བཀོད་པར་ཉན་པ་དང་། རྒྱལ་ཁ་ལེན་ཐུབ་པ། སྤྱོད་ཚུལ་ལེགས་པ་བཅས་དགོས་པ་མ་ཟད་ད་དུང་བློ་བརྟན་འགྱུར་མེད་ངང་ཏང་གི་འགོ་ཁྲིད་མཐའ་འཁྱོངས་དང་། ཏང་གི་དམག་དཔུང་སྟོབས་ཆེར་གཏོང་བའི་བསམ་བློ་ལག་བསྟར། ནམ་ཡང་ཏང་གི་བཀའ་ལ་ཉན་པ་དང་། ཏང་གི་རྗེས་སུ་འབྲང་བ། ནམ་ཡང་མི་དམངས་དང་མཉམ་དུ་གནས་པ། ནམ་ཡང་མི་དམངས་ཀྱི་བུ་ཕྲུག་དམག་བཅས་བྱེད་དགོས་ཞེས་བརྗོད་པ་རེད། “ལྟ་བཞིན་སྙིང་སྟོབས་བསྐྱེད་པ” “འདི་ནི་འཛམ་གླིང་ཡོངས་ལ་རང་རྒྱལ་གྱི་དམག་དོན་སྟོབས་ཤུགས་མ་ལག་ངོམ་པ་དང་། རྒྱལ་ཡོངས་མི་དམངས་ལ་མེས་རྒྱལ་སྲུང་སྐྱོང་དང་། མི་དམངས་སྲུང་སྐྱོང་། ཞི་བདེ་སྲུང་སྐྱོང་བཅས་ཀྱི་ང་ཚོའི་ཆོད་སེམས་དང་ཡིད་ཆེས་ངོམ་པ་ཞིག་རེད། མེས་རྒྱལ་སྟོབས་ལྡན་དུ་གྱུར་པས་ང་ལ་སྤོབས་པ་ཆེན་པོ་སྐྱེས་བྱུང་། སླད་ཕྱིན་གྱི་ལས་དོན་ཁྲོད་ངས་དམག་གཟིགས་མཛད་སྒོར་ཞུགས་པའི་དཔོན་དམག་ཚོ་མིག་དཔེར་བཟུང་བ་དང་འབད་འབུངས་ཧུར་བརྩོན་གྱིས་སྤྲོ་སེམས་སྔར་བས་ཆེན་པོའི་ཐོག་ནས་མཐའ་སྲུང་ལས་སྒྲུབ་བྱས་ཏེ་མཐའ་མཚམས་ས་ཁུལ་གྱི་དར་རྒྱས་དང་བརྟན་ལྷིང་ནུས་ཤུགས་ཡོད་རྒུས་སྲུང་སྐྱོང་བྱ་རྒྱུ་ཡིན”ཞེས་བོད་ལྗོངས་སྤྱི་བདེ་མཐའ་སྲུང་སྤྱི་ཁྱབ་རུ་ཁག་མྱུལ་ཞིབ་ཉིང་ལག་རུ་ཁག་ལ་གསར་ཏུ་ལས་བགོས་བྱས་པའི་ཀྲང་ཀྲེང་མིང་གིས་སེམས་འགུལ་ཐེབས་བཞིན་དུ་བརྗོད་པ་རེད། “སེམས་འགུལ་ཆེན་པོ་ཐེབས་བྱུང་། མི་རིགས་ཀྱི་སྤོབས་པ་དང་ཡིད་ཆེས་ངམ་ངམ་ཤུགས་ཀྱིས་སྐྱེས་བྱུང” “དམག་གཟིགས་མཛད་སྒོ་ལས་མེས་རྒྱལ་ལ་སྟོབས་འབྱོར་མངའ་ཐང་རྒྱས་པ་དང་། མི་དམངས་བདེ་སྐྱིད་ཁམས་བདེ་ཡོད་པ། ཀྲུང་གོ་བ་ཞིག་གི་སྤོབས་པ་བཅས་ཚོར་བྱུང་། སླད་ཕྱིན་རང་རེའི་རྒྱལ་ཁབ་སྔར་བས་ཡག་པོ་དང་སྔར་བས་སྟོབས་ལྡན་དུ་འགྱུར་རྒྱུའི་རེ་བ་ཡོད”དམག་གཟིགས་མཛད་སྒོར་བལྟས་པའི་མྱོང་ཚོར་གླེང་སྐབས་ལྷ་ས་གྲོང་ཁྱེར་གྱི་ལས་འཁྱུར་ངལ་གསོ་བརྒྱབ་པའི་དགེ་རྒན་དངོས་གྲུབ་དབང་མོས་དེ་ལྟར་བརྗོད་པ་རེད། ཚེས་30ཉིན་གྱི་སྔ་དྲོར། ལྷོ་ཁ་གྲོང་ཁྱེར་གྱི་མི་རིགས་ཁག་གི་ཏང་ཡོན་ལས་བྱེད་མང་ཚོགས་ཀྱིས་དམག་དཔུང་བཙུགས་ནས་ལོ་90འཁོར་བར་རྟེན་འབྲེལ་ཞུ་བའི་དམག་གཟིགས་མཛད་སྒོར་ནན་ཏན་ངང་བལྟས་རྗེས་རྒྱ་ཆེའི་ཏང་ཡོན་ལས་བྱེད་མང་ཚོགས་ཚོས། བློ་མཐུན་ཞི་ཅིན་ཕིང་གིས་སྲོག་ཤིང་གནང་བའི་ཏང་ཀྲུང་དབྱང་གི་མཐའ་འཁོར་དུ་དེ་བས་མཐུན་སྒྲིལ་དམ་ཟབ་བྱས་ཏེ་བློ་མཐུན་ཞི་ཅིན་ཕིང་གིས་སྲོག་ཤིང་གནང་བའི་ཏང་ཀྲུང་དབྱང་གི་མཛུབ་སྟོན་ཕྱོགས་སུ་གོམ་ཞེང་ཆེན་པོས་མདུན་སྐྱོད་བྱ་རྒྱུ་ཡིན་ཞེས་བརྗོད་པ་རེད། ཡིད་ཆེས་བརྟན་གཏོང་གིས་མཉམ་ཤུགས་གཅིག་ཏུ་སྒྲིལ། སྦྱོང་བརྡར་ལྷོད་མེད་བྱས་ནས་ལེའུ་གསར་པ་བརྩམས། ཉིན་དེར། ལྷོ་ཁ་གྲོང་ཁྱེར་གྱི་གྲོང་ཁྱེར་དང་གྲོང་རྡལ་དང་། གྲོང་གསེབ། མཐའ་མཚམས་ཀྱི་འཐབ་ས་དང་པོ་བཅས་ཚང་མ་དང་། བཅིངས་འགྲོལ་དམག་དང་། དྲག་ཆས་ཉེན་རྟོག་དཔོན་དམག སྤྱི་བདེའི་ལས་བྱེད་ཉེན་རྟོག་པ། ཏང་ཡོན་ལས་བྱེད་མང་ཚོགས་བཅས་ཚང་མས་དམག་དཔུང་བཙུགས་ནས་ལོ་90འཁོར་བར་རྟེན་འབྲེལ་ཞུ་བའི་དམག་གཟིགས་མཛད་སྒོར་བལྟས་པ་དང་། ཏང་དང་རྒྱལ་ཁབ་ལ་དཔའ་བོའི་དམག་དཔུང་འདི་འདྲ་ཡོད་པས་ཚང་མའི་སྤོབས་པ་ཆེ་རུ་སོང་བ་དང་། ཁོང་ཚོས། དཔའ་ངར་དེ་བས་ཆེན་པོ་དང་དངོས་སྒྲུབ་ཀྱི་ལས་ཀའི་སྤྱོད་ཚུལ་ཐོག་ནས“ལོ་བརྒྱ་གཉིས”ཀྱི་འབད་འཐབ་དམིགས་ཚད་དང་ཀྲུང་ཧྭ་མི་རིགས་རླབས་ཆེན་བསྐྱར་དར་གྱི་ཀྲུང་གོའི་ཕུགས་འདུན་མངོན་འགྱུར་ཡོང་ཆེད་ལེགས་སྐྱེས་གསར་པ་དེ་བས་ཆེ་བ་འབུལ་རྒྱུ་ཡིན་ཞེས་གཅིག་རྗེས་གཉིས་མཐུད་ངང་གསུངས་པ་རེད།'"
      ]
     },
     "execution_count": 42,
     "metadata": {},
     "output_type": "execute_result"
    }
   ],
   "source": [
    "tibet_cn_crawler('http://tb.tibet.cn/2010sy/xw/201708/t20170801_4343091.html')"
   ]
  },
  {
   "cell_type": "code",
   "execution_count": 49,
   "metadata": {},
   "outputs": [],
   "source": [
    "import unicodedata\n",
    "def zangdiyangguang_crawler(link):\n",
    "    res = requests.get(link)\n",
    "    res.encoding = 'utf-8'\n",
    "    soup = BeautifulSoup(res.text)\n",
    "    title = soup.find_all('h1', class_='ti')[-1].text\n",
    "    text_list = soup.find_all('span', style= 'fine18px;')\n",
    "    text = ''.join([re.sub(' ','', i.text) for i in text_list])\n",
    "    # text = unicodedata.normalize('NFKC', text)\n",
    "    text = ''.join(text.split())\n",
    "    text = re.sub('།','། ', text)\n",
    "    return text\n",
    "# 下面这种是不是有困难的阅读"
   ]
  },
  {
   "cell_type": "code",
   "execution_count": 50,
   "metadata": {},
   "outputs": [
    {
     "data": {
      "text/plain": [
       "'ཟླ་11ཚེས་15ཉིན་(ལུགས་རྙིང་ལོའི་ཟླ་10ཚེས་1ཉིན)ནི་ཆའང་རིགས་ས་ཁུལ་གྱི་དུས་ཆེན་གཙོ་བོ་སྟེ་ཆའང་རིགས་ལོ་གསར་ཡིན། རྔ་བ་ཁུལ་མའོ་རྫོང་གི་མི་རིགས་ཁག་གི་མང་ཚོགས་ཀྱིས་དུས་ཆེན་གྱི་གཟབ་མཆོར་ལེགས་པར་སྤྲས་ཏེ་གླུ་ལེན་གར་འཁྲབ་བྱས་ནས་ཆེས་སྲོལ་རྒྱུན་གྱི་རྣམ་པས་ཆའང་རིགས་ལོ་གསར་ལ་རྟེན་འབྲེལ་ཞུས་པ་རེད། ཟླ་11པའི་ཚེས་14ཉིན་(ལུགས་རྙིང་གི་ཟླ་9བའི་ཚེས་29ཉིན)ཀྲུང་གོ་གནའ་བོའི་ཆའང་རིགས་མཁར་གྲོང་ཡོངས་སུ་གློག་འོད་རབ་ཏུ་འཚེར་ཞིང་། ཆའང་རིགས་ཀྱི་ལོ་གསར་བསུ་བའི་བྱེད་སྒོ་དེ་དུས་དེ་ནས་དངོས་སུ་སྤེལ་འགོ་ཚུགས་པ་རེད། ཀྲུང་གོ་གནའ་བོའི་ཆའང་རིགས་མཁར་གྲོང་གི་ཆའང་རིགས་རིག་གནས་ཐང་ཆེན་དུ། ལོ་ངོ་སྟོང་རིང་འབར་བའི་“བསྐལ་བརྒྱར་གནས་པའི་མེ”ཆེན་པོ་སྤར་ཞིང་། ས་གནས་དེ་གའི་མང་ཚོགས་དང་ཡུལ་སྐོར་བ་ཚོ་མཉམ་དུ་དགའ་བས་འཛོམས་ནས་མེ་ཐབ་བསྐོར་ཏེ་དགའ་སྤྲོའི་ངང་ཆའང་རིགས་གླུ་གར་འཁྲབ། “བསྐལ་བརྒྱར་གནས་པའི་མེ”ལ་བསྲེགས་པའི་ལུག་ཤའི་དྲི་ཞིམ་འཐུལ་ཞིང་། ལོ་གསར་བསུ་བའི་མེ་ཕུང་དགོང་ཚོགས་དེ་གླུ་གར་དང་དགའ་སྤྲོའི་དགོད་སྒྲའི་ཁྲོད་འགོ་ཚུགས་པ་རེད། ཟླ་11ཚེས་15ཉིན(ལུགས་རྙིང་ལོའི་ཟླ་10ཚེས་1ཉིན)“ཕྱོགས་ཡོངས་ནས་འབྱོར་འབྲིང་ཡོང་བར། མངོན་མིན་རིག་གནས་ཤུལ་བཞག་མཉམ་དུ་བསྐྱོད”ཅེས་པ་བརྗོད་དོན་གཙོ་བོར་བྱས་པའི་ཆའང་རིགས་ལོ་གསར་གྱི་མངོན་མིན་རིག་གནས་ཤུལ་བཞག་གི་རྟེན་འབྲེལ་མཛད་སྒོའི་འགྲེམས་འཁྲབ་བྱེད་སྒོ་ཀྲུང་གོ་གནའ་བོའི་ཆའང་རིགས་མཁར་གྲོང་དུ་དངོས་སུ་འཁྲབ་སྟོན་བྱས་པ་རེད། འགྲེམས་འཁྲབ་དེ《གནམ་ལ་མཆོད་པ་ཕུལ་ནས་དུས་བདེ་ཡོང་བའི་སྨོན་འདུན་ཞུ》དང《ཆའང་ལུགས་ཆའང་ཉམས་ཀྱིས་ལོ་ལེགས་བྱུང་བར་རྟེན་འབྲེལ་ཞུ》《བློ་སེམས་གཅིག་སྒྲིལ་གྱིས་འབྱོར་འབྲིང་ཕྱོགས་སུ་བསྐྱོད》བཅས་ཁྱོན་ལེ་ཚན་གསུམ་ལ་དབྱེ་ཡོད། ཆའང་རིགས་ཀྱི་མཆོད་འབུལ་དང་ལོ་གསར་གྱི་གླུ་གཞས། ཤིས་ཚིག་འབུལ་བ། ལོ་གསར་གྱི་གླུ་གཞས་མཉམ་ལེན་བྱས་པ་བཅས་བརྒྱུད། ཆའང་རིགས་མང་ཚོགས་ཀྱིས་ལོ་གསར་བསུ་བའི་མཛད་སྒོའི་ཁྲོད་བརྒྱུད་སྤྲོད་བྱས་པའི་རིག་གནས་ཀྱི་ནང་དོན་དང་མི་རབས་ནས་མི་རབས་བར་གྱི་བསམ་པའི་འདུ་ཤེས་མཚོན་པར་བྱས་ཡོད། མི་རྣམས་ཀྱིས་ལུས་ལ་དུས་ཆེན་གྱི་གཟབ་མཆོར་ལེགས་པར་སྤྲས་ཤིང་དགའ་སྤྲོའི་རྣམ་པས་ཁེངས་ནས། ཞིང་ལས་སྐོར་གླེང་བ་དང་ལོ་ལེགས་ལ་རྟེན་འབྲེལ་ཞུས། ཁྱད་ལྡན་རིག་གནས་ལ་བརྟེན་ནས་ཆའང་རིགས་མང་ཚོགས་ཀྱིས་དུས་བཞིའི་དུས་བདེ་དང་ལོ་ལེགས་ཀྱི་སྤྲོ་སྣང་མཚོན་པར་བྱས་ཡོད། འགྲེམས་འཁྲབ་བྱེད་རིང་ཕ་ཡུལ་ལ་བསྟོད་པ་དང་བདེ་སྐྱིད་ལྡན་པའི་ཁྱིམ་གཞིས་སོགས་ཆའང་རིགས་ཀྱི་གསར་གཏོད་གླུ་གར་ལ་བརྟེན་ནས་ཁྱིམ་གཞིས་གསར་པ་དང་དུས་རབས་གསར་པར་བསྟོད་གླུ་ལེན་པ་དང་བསྔགས་བརྗོད་བྱེད་ཀྱི་ཡོད། བྱེད་སྒོ་སྤེལ་ཡུལ་དུ་ད་དུང་ཆའང་རིགས་ཀྱི་ལོ་གསར་གསོལ་སྟོན་བཤམས་ནས་ཆའང་རིགས་ཀྱི་ཞིམ་ཟས་རིག་གནས་དང་། གུས་སྲོལ་རིག་གནས། གསོལ་གཏམ་རིག་གནས། རོལ་མོའི་རིག་གནས། སྡེར་མའི་རིག་གནས་བཅས་འགྲེམས་སྟོན་བྱས་པ་རེད། གར་སྟེགས་སྟེང་འོག་ཀུན་ནས་གླུ་ལེན་གར་འཁྲབ་བྱས་པ་བརྒྱུད། ཡུལ་སྐོར་བ་ཚོས་ཆའང་རིགས་ལོ་གསར་གྱི་ཆའང་རིགས་སྤུན་ཟླ་ཚོའི་ཐུན་མོང་མ་ཡིན་པའི་ཡུལ་སྲོལ་གོམས་འདྲིས་ཉམས་ལེན་བྱས་པ་མ་ཟད། ཕྱི་ཕྱོགས་སུ་མའོ་རྫོང་གི་མི་རིགས་མཐུན་སྒྲིལ་ཡར་ཐོན་དང་། ཡར་ངོའི་ཟླ་ལྟར་འཕེལ་བ། མི་ཉམས་གོང་འཕེལ་བཅས་ཀྱི་ཞི་མཐུན་ཤོག་དྲིལ་བཀྲམ་ཡོད། ཆའང་རིགས་རྒྱན་གོས་དང་གླུ་གར་རྣམ་པ་སྣ་ཚོགས་ཀྱིས་མི་རྣམས་ལྟ་བ་མིག་གིས་མི་ཁོམ་པ་བཟོས། གར་སྟེགས་ཐོག་ཏུ་ངོ་མཚར་ཆེ་ཞིང་། གར་སྟེགས་འོག་ཏུ་དགའ་འབོད་བྱས། བཀྲ་ཤིས་པ་དང་། འཆམ་མཐུན། དྲིན་ཚོར། འབད་འབུངས་ཡར་བརྩོན་བཅས་ཀྱི“ཆའང་རིགས་ལོ་གསར”གྱི་མངོན་མིན་རིག་གནས་ཤུལ་བཞག་འགྲེམས་འཁྲབ་དེས་ཡུལ་དངོས་ཀྱི་ལྟད་མོ་བར་མི་སེམས་འགུལ་བའི་མཐོང་ཚོར་གྱི་སྟོན་མོ་གཟབ་རྒྱས་ཤིག་བཤམས་པ་རེད། རྒྱལ་ཡོངས་ས་གནས་ཁག་ནས་ཡོང་བའི་ཡུལ་སྐོར་བས་ཀྱང་ཆའང་རིགས་སྤུན་ཟླ་དང་མཉམ་དུ་ཆའང་རིགས་ཀྱི་ལོ་གསར་ལ་རྟེན་འབྲེལ་ཞུས་ཤིང་། “ཆའང་རིགས་ལོ་གསར”གྱི་ཐུན་མོང་མ་ཡིན་པའི་ཡིད་དབང་འཕྲོག་ཤུགས་ཉམས་སུ་མྱངས་ནས་ཐུན་མོང་ཐོག་དུས་རབས་གསར་པར་སྨོན་འདུན་ཞུས་ཡོད། (http://tibet.people.com.cn/15829881.html)'"
      ]
     },
     "execution_count": 50,
     "metadata": {},
     "output_type": "execute_result"
    }
   ],
   "source": [
    "zangdiyangguang_crawler('http://ti.zangdiyg.com/article/detail/id/18436.html')"
   ]
  },
  {
   "cell_type": "code",
   "execution_count": 54,
   "metadata": {},
   "outputs": [],
   "source": [
    "# http://www.vtibet.com/tb/xw_1629/xwtp/201711/t20171121_642485.html\n",
    "def vtibet_crawler(link):\n",
    "    res = requests.get(link)\n",
    "    res.encoding = 'utf-8'\n",
    "    soup = BeautifulSoup(res.text)\n",
    "    title = soup.find_all('h1', class_='n_title')[-1].text\n",
    "    serp = soup.find_all('font', style = 'font-size: 18pt')\n",
    "    text = ''.join(i.text for i in serp)\n",
    "    text = ' '.join(re.sub(' ','',text).split())\n",
    "    return text\n",
    "    # text = [re.sub('\\s','', i.text) for i in soup.find_all('font', style = 'font-size: 18pt')]\n",
    "    # text = ' '.join(text)"
   ]
  },
  {
   "cell_type": "code",
   "execution_count": 52,
   "metadata": {},
   "outputs": [
    {
     "name": "stdout",
     "output_type": "stream",
     "text": [
      "སྤྱི་ཟླ ༡༡ ཚེས ༡༩ ཉིན་སྟེ་བོད་ཟླ་བཅུ་པའི་ཚེས ༡ ཉིན་ནི་ཀོང་པོའི་ལོ་གསར་ཚེས་གཅིག་ཡིན།  ཉིང་ཁྲི་ས་ཁུལ་མང་ཚོགས་ཚོས་སྣ་མང་ཕུན་སུམ་ཚོགས་པའི་རིག་གནས་བྱེད་སྒོ་སོགས་སྤེལ་ཏེ་ཀོང་པོའི་ལོ་གསར་ལ་བསུ་བ་ཞུས་ཡོད།  བུ་ཆུ་ཤང་སྨད་པ་གྲོང་ཚོའི་བུད་མེད་རྣམས་ཞིང་མུར་སྐྱོད་དེ་ལོ་ལེགས་ལྷ་མོར་མཆོད་པ་ཕུལ་ཡོད།  ལོ་ལེགས་ལྷ་མོ་གསོ་བ་ནི་ཀོང་པོ་ས་ཁུལ་གྱི་མང་ཚོགས་ཚོས་ལོ་གསར་གཏོང་སྐབས་མཆོད་པ་འབུལ་བའི་ལོ་གསར་གྱི་གོམས་སྲོལ་གལ་ཆེན་ཞིག་ཡིན།སྤྱི་ཟླ ༡༡ ཚེས ༡༩ ཉིན་སྟེ་བོད་ཟླ་བཅུ་པའི་ཚེས ༡ ཉིན་ནི་ཀོང་པོའི་ལོ་གསར་ཚེས་གཅིག་ཡིན།  ཉིང་ཁྲི་ས་ཁུལ་མང་ཚོགས་ཚོས་སྣ་མང་ཕུན་སུམ་ཚོགས་པའི་རིག་གནས་བྱེད་སྒོ་སོགས་སྤེལ་ཏེ་ཀོང་པོའི་ལོ་གསར་ལ་བསུ་བ་ཞུས་ཡོད།  བུ་ཆུ་ཤང་སྨད་པ་གྲོང་ཚོའི་བུད་མེད་རྣམས་ཞིང་མུར་སྐྱོད་དེ་ལོ་ལེགས་ལྷ་མོར་མཆོད་པ་ཕུལ་ཡོད།  ལོ་ལེགས་ལྷ་མོ་གསོ་བ་ནི་ཀོང་པོ་ས་ཁུལ་གྱི་མང་ཚོགས་ཚོས་ལོ་གསར་གཏོང་སྐབས་མཆོད་པ་འབུལ་བའི་ལོ་གསར་གྱི་གོམས་སྲོལ་གལ་ཆེན་ཞིག་ཡིན།སྤྱི་ཟླ ༡༡ ཚེས ༡༨ ཉིན་གྱི་དགོང་མོ་ནི་ཀོང་པོའི་ལོ་གསར་གནམ་གང་དགོང་མོ་ཡིན།  ཉིང་ཁྲི་གྲོང་ཁྱེར་བུ་ཆུ་ཤང་སྨད་པ་གྲོང་ཚོའི་གྲོང་མིས་ཀོང་པོའི་ལོ་གསར་གྱི་ཐུན་མོང་མ་ཡིན་པའི་ཁྱི་ལྟོ་གཏེར་བ་དང་ལྕེ་ལྡག  ཆུ་ཕུད་ལེན་པ།  དེ་བཞིན་མདའ་འཕེན་པ་སོགས་ཀྱི་གོམས་སྲོལ་ལྟར་དགའ་སྐྱིད་སྤྲོ་སྣང་ལྡན་པའི་ལོ་གསར་བཏང་བ་རེད།  ལྕེ་ལྡག་ནི་མར་དང་འོ་མ།  རྩམ་པ་དང་བྱེ་མ་ཀ་ར་མཉམ་དུ་སྦྲུས་བརྫིས་བྱས་པ་དེ་མེས་ཚ་དྲོད་ལྡན་པ་བཟོས་ཏེ་ཟ་ཆོག་པའི་ཟས་རིགས་ཤིག་ཡིན།\n"
     ]
    }
   ],
   "source": [
    "with open('预标注.txt', 'w', encoding='utf-8') as f:\n",
    "    f.write(re.sub(r'\\xa0*',' ', vtibet_crawler('http://www.vtibet.com/tb/xw_1629/xwtp/201711/t20171121_642485.html')))\n",
    "# 下面第一种是不是有问题"
   ]
  },
  {
   "cell_type": "code",
   "execution_count": 55,
   "metadata": {},
   "outputs": [
    {
     "data": {
      "text/plain": [
       "'སྤྱི་ཟླ༡༡ཚེས༡༩ཉིན་སྟེ་བོད་ཟླ་བཅུ་པའི་ཚེས༡ཉིན་ནི་ཀོང་པོའི་ལོ་གསར་ཚེས་གཅིག་ཡིན། ཉིང་ཁྲི་ས་ཁུལ་མང་ཚོགས་ཚོས་སྣ་མང་ཕུན་སུམ་ཚོགས་པའི་རིག་གནས་བྱེད་སྒོ་སོགས་སྤེལ་ཏེ་ཀོང་པོའི་ལོ་གསར་ལ་བསུ་བ་ཞུས་ཡོད། བུ་ཆུ་ཤང་སྨད་པ་གྲོང་ཚོའི་བུད་མེད་རྣམས་ཞིང་མུར་སྐྱོད་དེ་ལོ་ལེགས་ལྷ་མོར་མཆོད་པ་ཕུལ་ཡོད། ལོ་ལེགས་ལྷ་མོ་གསོ་བ་ནི་ཀོང་པོ་ས་ཁུལ་གྱི་མང་ཚོགས་ཚོས་ལོ་གསར་གཏོང་སྐབས་མཆོད་པ་འབུལ་བའི་ལོ་གསར་གྱི་གོམས་སྲོལ་གལ་ཆེན་ཞིག་ཡིན།སྤྱི་ཟླ༡༡ཚེས༡༩ཉིན་སྟེ་བོད་ཟླ་བཅུ་པའི་ཚེས༡ཉིན་ནི་ཀོང་པོའི་ལོ་གསར་ཚེས་གཅིག་ཡིན། ཉིང་ཁྲི་ས་ཁུལ་མང་ཚོགས་ཚོས་སྣ་མང་ཕུན་སུམ་ཚོགས་པའི་རིག་གནས་བྱེད་སྒོ་སོགས་སྤེལ་ཏེ་ཀོང་པོའི་ལོ་གསར་ལ་བསུ་བ་ཞུས་ཡོད། བུ་ཆུ་ཤང་སྨད་པ་གྲོང་ཚོའི་བུད་མེད་རྣམས་ཞིང་མུར་སྐྱོད་དེ་ལོ་ལེགས་ལྷ་མོར་མཆོད་པ་ཕུལ་ཡོད། ལོ་ལེགས་ལྷ་མོ་གསོ་བ་ནི་ཀོང་པོ་ས་ཁུལ་གྱི་མང་ཚོགས་ཚོས་ལོ་གསར་གཏོང་སྐབས་མཆོད་པ་འབུལ་བའི་ལོ་གསར་གྱི་གོམས་སྲོལ་གལ་ཆེན་ཞིག་ཡིན།སྤྱི་ཟླ༡༡ཚེས༡༨ཉིན་གྱི་དགོང་མོ་ནི་ཀོང་པོའི་ལོ་གསར་གནམ་གང་དགོང་མོ་ཡིན། ཉིང་ཁྲི་གྲོང་ཁྱེར་བུ་ཆུ་ཤང་སྨད་པ་གྲོང་ཚོའི་གྲོང་མིས་ཀོང་པོའི་ལོ་གསར་གྱི་ཐུན་མོང་མ་ཡིན་པའི་ཁྱི་ལྟོ་གཏེར་བ་དང་ལྕེ་ལྡག ཆུ་ཕུད་ལེན་པ། དེ་བཞིན་མདའ་འཕེན་པ་སོགས་ཀྱི་གོམས་སྲོལ་ལྟར་དགའ་སྐྱིད་སྤྲོ་སྣང་ལྡན་པའི་ལོ་གསར་བཏང་བ་རེད། ལྕེ་ལྡག་ནི་མར་དང་འོ་མ། རྩམ་པ་དང་བྱེ་མ་ཀ་ར་མཉམ་དུ་སྦྲུས་བརྫིས་བྱས་པ་དེ་མེས་ཚ་དྲོད་ལྡན་པ་བཟོས་ཏེ་ཟ་ཆོག་པའི་ཟས་རིགས་ཤིག་ཡིན།'"
      ]
     },
     "execution_count": 55,
     "metadata": {},
     "output_type": "execute_result"
    }
   ],
   "source": [
    "vtibet_crawler('http://www.vtibet.com/tb/xw_1629/xwtp/201711/t20171121_642485.html')"
   ]
  }
 ],
 "metadata": {
  "interpreter": {
   "hash": "79f39d06ccac4f0a6b3d11477479a3d7a8039e2bca6f83223d20136807394865"
  },
  "kernelspec": {
   "display_name": "Python 3.7.12 ('torch')",
   "language": "python",
   "name": "python3"
  },
  "language_info": {
   "codemirror_mode": {
    "name": "ipython",
    "version": 3
   },
   "file_extension": ".py",
   "mimetype": "text/x-python",
   "name": "python",
   "nbconvert_exporter": "python",
   "pygments_lexer": "ipython3",
   "version": "3.7.12"
  },
  "orig_nbformat": 4
 },
 "nbformat": 4,
 "nbformat_minor": 2
}
