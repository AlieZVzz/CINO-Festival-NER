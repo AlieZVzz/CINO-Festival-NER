{
 "cells": [
  {
   "cell_type": "code",
   "execution_count": 23,
   "metadata": {},
   "outputs": [
    {
     "name": "stdout",
     "output_type": "stream",
     "text": [
      "326\n"
     ]
    }
   ],
   "source": [
    "f = open('tibetan_merge.txt', 'r')\n",
    "line = 0\n",
    "for i in f.readlines():\n",
    "    line = line +1\n",
    "print(line)"
   ]
  },
  {
   "cell_type": "code",
   "execution_count": 26,
   "metadata": {},
   "outputs": [],
   "source": [
    "def Main_split():\n",
    "    source = 'tibetan_merge.txt'\n",
    "    # 此处一定要建上target文件夹，不然会报路径错误\n",
    "    target = '藏语'\n",
    "    # 文件的行数的计数器\n",
    "    num = 0\n",
    "\n",
    "    # 文件序号\n",
    "    name_num = 1\n",
    "    # 用于存放数据\n",
    "    dataStore = []\n",
    "    \n",
    "    # 设置为UTF-8编码\n",
    "    with open(source, 'r', encoding='UTF-8') as file_content:\n",
    "        for line in file_content:\n",
    "            num += 1\n",
    "            dataStore.append(line)\n",
    "            # 设定每个文件为20万行\n",
    "            if num == 82:\n",
    "                with open(target + \"list_\" + str(name_num) + \".txt\", 'w+') as file_target:\n",
    "                    for data in dataStore:\n",
    "                        file_target.write(data)\n",
    "                name_num += 1\n",
    "                num = 0\n",
    "                dataStore = []\n",
    "\n",
    "    # 处理最后一个文件，如果最后一个文件行数少于20万行，进行如下处理\n",
    "    with open(target + \"list_\" + str(name_num) + \".txt\", 'w+') as file_target:\n",
    "        for data in dataStore:\n",
    "            file_target.write(data)\n"
   ]
  },
  {
   "cell_type": "code",
   "execution_count": 27,
   "metadata": {},
   "outputs": [],
   "source": [
    "Main_split()"
   ]
  },
  {
   "cell_type": "markdown",
   "metadata": {},
   "source": []
  },
  {
   "cell_type": "code",
   "execution_count": 18,
   "metadata": {},
   "outputs": [],
   "source": [
    "# -*- coding:utf-8 -*-\n",
    "import os\n",
    " \n",
    "\"\"\"\n",
    "合并多个txt\n",
    "\"\"\"\n",
    " \n",
    "# 获取目标文件夹的路径\n",
    "path = \"D:/OneDrive - alumni.albany.edu\\Pycharm Project/2022.03 CINO Festival NER/data_collect/Tibetan data/crawler_data\"\n",
    "# 获取当前文件夹中的文件名称列表\n",
    "filenames = os.listdir(path)\n",
    "result = \"./merge.txt\"\n",
    "# 打开当前目录下的result.txt文件，如果没有则创建\n",
    "file = open(result, 'w+', encoding=\"utf-8\")\n",
    "# 向文件中写入字符\n",
    " \n",
    "# 先遍历文件名\n",
    "for filename in filenames:\n",
    "    filepath = path + '/'\n",
    "    filepath = filepath + filename\n",
    "    # 遍历单个文件，读取行数\n",
    "    for line in open(filepath, encoding=\"utf-8\"):\n",
    "        file.writelines(line)\n",
    "    file.write('\\n')\n",
    "# 关闭文件\n",
    "file.close()"
   ]
  }
 ],
 "metadata": {
  "interpreter": {
   "hash": "79f39d06ccac4f0a6b3d11477479a3d7a8039e2bca6f83223d20136807394865"
  },
  "kernelspec": {
   "display_name": "Python 3.7.12 ('torch')",
   "language": "python",
   "name": "python3"
  },
  "language_info": {
   "codemirror_mode": {
    "name": "ipython",
    "version": 3
   },
   "file_extension": ".py",
   "mimetype": "text/x-python",
   "name": "python",
   "nbconvert_exporter": "python",
   "pygments_lexer": "ipython3",
   "version": "3.7.12"
  },
  "orig_nbformat": 4
 },
 "nbformat": 4,
 "nbformat_minor": 2
}
